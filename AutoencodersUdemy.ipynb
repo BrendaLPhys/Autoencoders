{
 "cells": [
  {
   "cell_type": "markdown",
   "id": "fd5619a4-e333-4e31-9805-676febb03574",
   "metadata": {},
   "source": [
    "#Autoencoders in Keras\n",
    "\n",
   ]
  },
  {
   "cell_type": "markdown",
   "id": "7e69cdaf-6bcd-4d61-a313-9536d74e3c1b",
   "metadata": {},
   "source": [
    "## Simplest Autoencoder\n",
    "\n",
    "Input - Bottleneck Layer - Output\n",
    "\n",
    "Encoder - Decoder\n",
    "\n",
    "The bottleneck layer is the compressed representation of the original information."
   ]
  },
  {
   "cell_type": "code",
   "execution_count": 1,
   "id": "45de2ab0-6004-4f05-b2dc-887497ccbda6",
   "metadata": {},
   "outputs": [
    {
     "name": "stderr",
     "output_type": "stream",
     "text": [
      "Using TensorFlow backend.\n",
      "C:\\Users\\brend\\anaconda3\\envs\\LHC\\lib\\site-packages\\tensorflow\\python\\framework\\dtypes.py:516: FutureWarning: Passing (type, 1) or '1type' as a synonym of type is deprecated; in a future version of numpy, it will be understood as (type, (1,)) / '(1,)type'.\n",
      "  _np_qint8 = np.dtype([(\"qint8\", np.int8, 1)])\n",
      "C:\\Users\\brend\\anaconda3\\envs\\LHC\\lib\\site-packages\\tensorflow\\python\\framework\\dtypes.py:517: FutureWarning: Passing (type, 1) or '1type' as a synonym of type is deprecated; in a future version of numpy, it will be understood as (type, (1,)) / '(1,)type'.\n",
      "  _np_quint8 = np.dtype([(\"quint8\", np.uint8, 1)])\n",
      "C:\\Users\\brend\\anaconda3\\envs\\LHC\\lib\\site-packages\\tensorflow\\python\\framework\\dtypes.py:518: FutureWarning: Passing (type, 1) or '1type' as a synonym of type is deprecated; in a future version of numpy, it will be understood as (type, (1,)) / '(1,)type'.\n",
      "  _np_qint16 = np.dtype([(\"qint16\", np.int16, 1)])\n",
      "C:\\Users\\brend\\anaconda3\\envs\\LHC\\lib\\site-packages\\tensorflow\\python\\framework\\dtypes.py:519: FutureWarning: Passing (type, 1) or '1type' as a synonym of type is deprecated; in a future version of numpy, it will be understood as (type, (1,)) / '(1,)type'.\n",
      "  _np_quint16 = np.dtype([(\"quint16\", np.uint16, 1)])\n",
      "C:\\Users\\brend\\anaconda3\\envs\\LHC\\lib\\site-packages\\tensorflow\\python\\framework\\dtypes.py:520: FutureWarning: Passing (type, 1) or '1type' as a synonym of type is deprecated; in a future version of numpy, it will be understood as (type, (1,)) / '(1,)type'.\n",
      "  _np_qint32 = np.dtype([(\"qint32\", np.int32, 1)])\n",
      "C:\\Users\\brend\\anaconda3\\envs\\LHC\\lib\\site-packages\\tensorflow\\python\\framework\\dtypes.py:525: FutureWarning: Passing (type, 1) or '1type' as a synonym of type is deprecated; in a future version of numpy, it will be understood as (type, (1,)) / '(1,)type'.\n",
      "  np_resource = np.dtype([(\"resource\", np.ubyte, 1)])\n",
      "C:\\Users\\brend\\anaconda3\\envs\\LHC\\lib\\site-packages\\tensorboard\\compat\\tensorflow_stub\\dtypes.py:541: FutureWarning: Passing (type, 1) or '1type' as a synonym of type is deprecated; in a future version of numpy, it will be understood as (type, (1,)) / '(1,)type'.\n",
      "  _np_qint8 = np.dtype([(\"qint8\", np.int8, 1)])\n",
      "C:\\Users\\brend\\anaconda3\\envs\\LHC\\lib\\site-packages\\tensorboard\\compat\\tensorflow_stub\\dtypes.py:542: FutureWarning: Passing (type, 1) or '1type' as a synonym of type is deprecated; in a future version of numpy, it will be understood as (type, (1,)) / '(1,)type'.\n",
      "  _np_quint8 = np.dtype([(\"quint8\", np.uint8, 1)])\n",
      "C:\\Users\\brend\\anaconda3\\envs\\LHC\\lib\\site-packages\\tensorboard\\compat\\tensorflow_stub\\dtypes.py:543: FutureWarning: Passing (type, 1) or '1type' as a synonym of type is deprecated; in a future version of numpy, it will be understood as (type, (1,)) / '(1,)type'.\n",
      "  _np_qint16 = np.dtype([(\"qint16\", np.int16, 1)])\n",
      "C:\\Users\\brend\\anaconda3\\envs\\LHC\\lib\\site-packages\\tensorboard\\compat\\tensorflow_stub\\dtypes.py:544: FutureWarning: Passing (type, 1) or '1type' as a synonym of type is deprecated; in a future version of numpy, it will be understood as (type, (1,)) / '(1,)type'.\n",
      "  _np_quint16 = np.dtype([(\"quint16\", np.uint16, 1)])\n",
      "C:\\Users\\brend\\anaconda3\\envs\\LHC\\lib\\site-packages\\tensorboard\\compat\\tensorflow_stub\\dtypes.py:545: FutureWarning: Passing (type, 1) or '1type' as a synonym of type is deprecated; in a future version of numpy, it will be understood as (type, (1,)) / '(1,)type'.\n",
      "  _np_qint32 = np.dtype([(\"qint32\", np.int32, 1)])\n",
      "C:\\Users\\brend\\anaconda3\\envs\\LHC\\lib\\site-packages\\tensorboard\\compat\\tensorflow_stub\\dtypes.py:550: FutureWarning: Passing (type, 1) or '1type' as a synonym of type is deprecated; in a future version of numpy, it will be understood as (type, (1,)) / '(1,)type'.\n",
      "  np_resource = np.dtype([(\"resource\", np.ubyte, 1)])\n"
     ]
    }
   ],
   "source": [
    "from keras.models import Model\n",
    "from keras.layers import Input, Dense\n",
    "from keras.datasets import mnist\n",
    "import numpy as np\n",
    "import matplotlib.pyplot as plt"
   ]
  },
  {
   "cell_type": "markdown",
   "id": "1156f0f1-74d2-407b-8614-4ecaf46c1c51",
   "metadata": {},
   "source": [
    "### Create the model"
   ]
  },
  {
   "cell_type": "code",
   "execution_count": 16,
   "id": "7ebc24ad-69dd-4947-9ca7-e10a6a6b2217",
   "metadata": {},
   "outputs": [],
   "source": [
    "# The mnist images are 28x28, this is 784 pixels total\n",
    "\n",
    "encoding_dim = 64 # define the encoding dimension (arbitrary) this is the size of the bottleneck\n",
    "# the compressed image is 8x8\n",
    "\n",
    "input_img = Input(shape=(784,)) # This is the input layer of the network 784x1\n",
    "encoded = Dense(encoding_dim, activation = 'relu')(input_img) # This is the encoded layer, a dense layer its input is the previous layer\n",
    "decoded = Dense(784, activation = 'sigmoid')(encoded) # This is the decoded layer a dense fully conected layer, its input is the previous layer\n",
    "\n",
    "# Here we build the model\n",
    "\n",
    "autoencoder = Model(input_img, decoded) # Autoencoder model, input and output\n",
    "\n",
    "encoder = Model(input_img, encoded) # Encoder model\n",
    "\n",
    "encoded_input = Input(shape=(encoding_dim,)) # Placeholder for encoded input\n",
    "\n",
    "decoder_layer = autoencoder.layers[-1] # Extract the last layer from the autoencoder\n",
    "\n",
    "decoder = Model(encoded_input, decoder_layer(encoded_input)) # Create a decoder model"
   ]
  },
  {
   "cell_type": "markdown",
   "id": "38c3e6db-5d23-4545-925e-96d7cd8bc832",
   "metadata": {},
   "source": [
    "### Compile the model"
   ]
  },
  {
   "cell_type": "code",
   "execution_count": 6,
   "id": "16bfe0c1-b9b3-426d-8e64-c7b1df9bb0ef",
   "metadata": {},
   "outputs": [],
   "source": [
    "autoencoder.compile(optimizer = 'adadelta', loss = 'binary_crossentropy')"
   ]
  },
  {
   "cell_type": "markdown",
   "id": "5eef45c8-0269-4f6d-91b5-dd8872ae628e",
   "metadata": {},
   "source": [
    "## Load mnist dataset\n",
    "\n",
    "For autoencoders the input is the same as the output"
   ]
  },
  {
   "cell_type": "code",
   "execution_count": 22,
   "id": "19cb1eee-230e-4d0c-a623-deec2c4ffc86",
   "metadata": {},
   "outputs": [
    {
     "name": "stdout",
     "output_type": "stream",
     "text": [
      "x_train shape = (60000, 784)\n",
      "x_test shape = (10000, 784)\n"
     ]
    }
   ],
   "source": [
    "(x_train, _), (x_test, _) =  mnist.load_data() # x_train and just a placeholder for the y value\n",
    "\n",
    "# We can divide the values by 255 to normalize\n",
    "\n",
    "x_train = x_train.astype('float32')/255\n",
    "x_test = x_test.astype('float32')/255\n",
    "\n",
    "# and reshape to a single dimension\n",
    "\n",
    "x_train = x_train.reshape((len(x_train), (np.prod(x_train.shape[1:]))))\n",
    "x_test = x_test.reshape((len(x_test), (np.prod(x_test.shape[1:]))))\n",
    "\n",
    "# print the value of the shapes\n",
    "print(f'x_train shape = {x_train.shape}')\n",
    "print(f'x_test shape = {x_test.shape}')"
   ]
  },
  {
   "cell_type": "markdown",
   "id": "3e7bc2b0-b476-45f5-bce6-fead4694154f",
   "metadata": {},
   "source": [
    "## Fit the data in the autoencoder model"
   ]
  },
  {
   "cell_type": "code",
   "execution_count": 12,
   "id": "7ff65a78-f555-4fe3-95ca-bc2708abfec9",
   "metadata": {},
   "outputs": [
    {
     "name": "stdout",
     "output_type": "stream",
     "text": [
      "WARNING:tensorflow:From C:\\Users\\brend\\anaconda3\\envs\\LHC\\lib\\site-packages\\keras\\backend\\tensorflow_backend.py:422: The name tf.global_variables is deprecated. Please use tf.compat.v1.global_variables instead.\n",
      "\n",
      "Train on 60000 samples, validate on 10000 samples\n",
      "Epoch 1/50\n",
      "60000/60000 [==============================] - 4s 60us/step - loss: 0.3463 - val_loss: 0.2674\n",
      "Epoch 2/50\n",
      "60000/60000 [==============================] - 3s 47us/step - loss: 0.2568 - val_loss: 0.2423\n",
      "Epoch 3/50\n",
      "60000/60000 [==============================] - 3s 45us/step - loss: 0.2309 - val_loss: 0.2177\n",
      "Epoch 4/50\n",
      "60000/60000 [==============================] - 3s 46us/step - loss: 0.2107 - val_loss: 0.2014\n",
      "Epoch 5/50\n",
      "60000/60000 [==============================] - 3s 45us/step - loss: 0.1969 - val_loss: 0.1898\n",
      "Epoch 6/50\n",
      "60000/60000 [==============================] - 3s 46us/step - loss: 0.1865 - val_loss: 0.1805\n",
      "Epoch 7/50\n",
      "60000/60000 [==============================] - 3s 46us/step - loss: 0.1780 - val_loss: 0.1726\n",
      "Epoch 8/50\n",
      "60000/60000 [==============================] - 3s 44us/step - loss: 0.1707 - val_loss: 0.1659\n",
      "Epoch 9/50\n",
      "60000/60000 [==============================] - 2s 41us/step - loss: 0.1643 - val_loss: 0.1599\n",
      "Epoch 10/50\n",
      "60000/60000 [==============================] - 2s 41us/step - loss: 0.1587 - val_loss: 0.1548\n",
      "Epoch 11/50\n",
      "60000/60000 [==============================] - 3s 43us/step - loss: 0.1538 - val_loss: 0.1500\n",
      "Epoch 12/50\n",
      "60000/60000 [==============================] - 2s 41us/step - loss: 0.1493 - val_loss: 0.1459\n",
      "Epoch 13/50\n",
      "60000/60000 [==============================] - 2s 38us/step - loss: 0.1452 - val_loss: 0.1418\n",
      "Epoch 14/50\n",
      "60000/60000 [==============================] - 2s 39us/step - loss: 0.1416 - val_loss: 0.1383\n",
      "Epoch 15/50\n",
      "60000/60000 [==============================] - 3s 43us/step - loss: 0.1382 - val_loss: 0.1351\n",
      "Epoch 16/50\n",
      "60000/60000 [==============================] - 2s 39us/step - loss: 0.1351 - val_loss: 0.1320\n",
      "Epoch 17/50\n",
      "60000/60000 [==============================] - 2s 41us/step - loss: 0.1321 - val_loss: 0.1292\n",
      "Epoch 18/50\n",
      "60000/60000 [==============================] - 2s 40us/step - loss: 0.1294 - val_loss: 0.1266\n",
      "Epoch 19/50\n",
      "60000/60000 [==============================] - 2s 39us/step - loss: 0.1268 - val_loss: 0.1240\n",
      "Epoch 20/50\n",
      "60000/60000 [==============================] - 2s 39us/step - loss: 0.1243 - val_loss: 0.1216\n",
      "Epoch 21/50\n",
      "60000/60000 [==============================] - 2s 39us/step - loss: 0.1220 - val_loss: 0.1193\n",
      "Epoch 22/50\n",
      "60000/60000 [==============================] - 2s 38us/step - loss: 0.1197 - val_loss: 0.1171\n",
      "Epoch 23/50\n",
      "60000/60000 [==============================] - ETA: 0s - loss: 0.117 - 2s 39us/step - loss: 0.1176 - val_loss: 0.1151\n",
      "Epoch 24/50\n",
      "60000/60000 [==============================] - 2s 40us/step - loss: 0.1156 - val_loss: 0.1131\n",
      "Epoch 25/50\n",
      "60000/60000 [==============================] - 2s 38us/step - loss: 0.1138 - val_loss: 0.1114\n",
      "Epoch 26/50\n",
      "60000/60000 [==============================] - 2s 39us/step - loss: 0.1120 - val_loss: 0.1097\n",
      "Epoch 27/50\n",
      "60000/60000 [==============================] - 2s 38us/step - loss: 0.1104 - val_loss: 0.1080\n",
      "Epoch 28/50\n",
      "60000/60000 [==============================] - 2s 37us/step - loss: 0.1088 - val_loss: 0.1066\n",
      "Epoch 29/50\n",
      "60000/60000 [==============================] - 2s 38us/step - loss: 0.1074 - val_loss: 0.1052\n",
      "Epoch 30/50\n",
      "60000/60000 [==============================] - 2s 37us/step - loss: 0.1061 - val_loss: 0.1039\n",
      "Epoch 31/50\n",
      "60000/60000 [==============================] - 2s 38us/step - loss: 0.1048 - val_loss: 0.1027\n",
      "Epoch 32/50\n",
      "60000/60000 [==============================] - 2s 38us/step - loss: 0.1036 - val_loss: 0.1016\n",
      "Epoch 33/50\n",
      "60000/60000 [==============================] - 2s 39us/step - loss: 0.1025 - val_loss: 0.1005\n",
      "Epoch 34/50\n",
      "60000/60000 [==============================] - 2s 38us/step - loss: 0.1015 - val_loss: 0.0995\n",
      "Epoch 35/50\n",
      "60000/60000 [==============================] - 3s 43us/step - loss: 0.1006 - val_loss: 0.0986\n",
      "Epoch 36/50\n",
      "60000/60000 [==============================] - 3s 44us/step - loss: 0.0997 - val_loss: 0.0978\n",
      "Epoch 37/50\n",
      "60000/60000 [==============================] - 3s 47us/step - loss: 0.0988 - val_loss: 0.0970\n",
      "Epoch 38/50\n",
      "60000/60000 [==============================] - 3s 44us/step - loss: 0.0980 - val_loss: 0.0962\n",
      "Epoch 39/50\n",
      "60000/60000 [==============================] - 2s 41us/step - loss: 0.0973 - val_loss: 0.0955\n",
      "Epoch 40/50\n",
      "60000/60000 [==============================] - 2s 41us/step - loss: 0.0965 - val_loss: 0.0948\n",
      "Epoch 41/50\n",
      "60000/60000 [==============================] - 2s 42us/step - loss: 0.0959 - val_loss: 0.0942\n",
      "Epoch 42/50\n",
      "60000/60000 [==============================] - 3s 44us/step - loss: 0.0952 - val_loss: 0.0935\n",
      "Epoch 43/50\n",
      "60000/60000 [==============================] - 2s 39us/step - loss: 0.0946 - val_loss: 0.0930\n",
      "Epoch 44/50\n",
      "60000/60000 [==============================] - 2s 38us/step - loss: 0.0941 - val_loss: 0.0924\n",
      "Epoch 45/50\n",
      "60000/60000 [==============================] - 2s 38us/step - loss: 0.0935 - val_loss: 0.0919\n",
      "Epoch 46/50\n",
      "60000/60000 [==============================] - 2s 37us/step - loss: 0.0930 - val_loss: 0.0914\n",
      "Epoch 47/50\n",
      "60000/60000 [==============================] - 2s 38us/step - loss: 0.0925 - val_loss: 0.0910\n",
      "Epoch 48/50\n",
      "60000/60000 [==============================] - 2s 37us/step - loss: 0.0921 - val_loss: 0.0905\n",
      "Epoch 49/50\n",
      "60000/60000 [==============================] - 2s 38us/step - loss: 0.0916 - val_loss: 0.0901\n",
      "Epoch 50/50\n",
      "60000/60000 [==============================] - 2s 39us/step - loss: 0.0912 - val_loss: 0.0897\n"
     ]
    },
    {
     "data": {
      "text/plain": [
       "<keras.callbacks.callbacks.History at 0x181b025eb70>"
      ]
     },
     "execution_count": 12,
     "metadata": {},
     "output_type": "execute_result"
    }
   ],
   "source": [
    "autoencoder.fit(x_train, x_train, epochs = 50, batch_size = 256, \n",
    "                shuffle = True,  validation_data = (x_test, x_test))"
   ]
  },
  {
   "cell_type": "markdown",
   "id": "77e3a4aa-c0fd-48cb-b87b-2b8118eb6d3b",
   "metadata": {},
   "source": [
    "### Do the prediction on that model"
   ]
  },
  {
   "cell_type": "code",
   "execution_count": 13,
   "id": "ff660ace-2d7e-4fe6-901a-95b6d3d372cf",
   "metadata": {},
   "outputs": [],
   "source": [
    "encoded_imgs = encoder.predict(x_test) # first encode the images\n",
    "\n",
    "# and then we use our decoder\n",
    "\n",
    "decoded_imgs = decoder.predict(encoded_imgs)"
   ]
  },
  {
   "cell_type": "markdown",
   "id": "b84e8f05-1334-41fe-9ce3-8519e5d1fb91",
   "metadata": {},
   "source": [
    "### Plot images"
   ]
  },
  {
   "cell_type": "code",
   "execution_count": 14,
   "id": "6989c58f-5e3c-4648-8dd7-4d179193ed86",
   "metadata": {},
   "outputs": [
    {
     "data": {
      "image/png": "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\n",
      "text/plain": [
       "<Figure size 1440x288 with 20 Axes>"
      ]
     },
     "metadata": {
      "needs_background": "light"
     },
     "output_type": "display_data"
    }
   ],
   "source": [
    "n = 10 # for how many digits of the mnist images we will display\n",
    "plt.figure(figsize=(20,4))\n",
    "\n",
    "for i in range(n):\n",
    "    ax = plt.subplot(2, n, i+1)\n",
    "    plt.imshow(x_test[i].reshape(28,28))  # return them to the 28x28 individual size\n",
    "    plt.gray()\n",
    "    ax.get_xaxis().set_visible(False)\n",
    "    ax.get_yaxis().set_visible(False)\n",
    "    # and then display the reconstruction\n",
    "    ax = plt.subplot(2, n, i+1+n)\n",
    "    plt.imshow(decoded_imgs[i].reshape(28,28))\n",
    "    plt.gray()\n",
    "    ax.get_xaxis().set_visible(False)\n",
    "    ax.get_yaxis().set_visible(False)\n",
    "\n",
    "plt.show()"
   ]
  },
  {
   "cell_type": "markdown",
   "id": "a8a7b192-d545-4aab-86d6-06ddf656b205",
   "metadata": {},
   "source": [
    "The first row shows the original dataset and the second row shows the reconstructed images from the compressed information (dataset encoded to a lower dimension) from the bottleneck layer. The decoder was able to recreate the images from the compressed information.\n",
    "\n",
    "There is some loss, that is why the images look a little blurry but that is expected."
   ]
  },
  {
   "cell_type": "markdown",
   "id": "e3ce2fc3-a9a8-4105-b9ea-be499336bdb3",
   "metadata": {},
   "source": [
    "# Sequential Autoencoder\n",
    "\n",
    "More layers"
   ]
  },
  {
   "cell_type": "code",
   "execution_count": 18,
   "id": "020468ee-e0fd-4718-ac55-3a0c227cc7fb",
   "metadata": {},
   "outputs": [],
   "source": [
    "from keras.models import Sequential"
   ]
  },
  {
   "cell_type": "markdown",
   "id": "7c9ae849-20ec-4367-b069-d27ebfa610d3",
   "metadata": {},
   "source": [
    "## Define the model"
   ]
  },
  {
   "cell_type": "code",
   "execution_count": 29,
   "id": "dc184b98-b112-481e-b6c2-5cc394dcd760",
   "metadata": {},
   "outputs": [],
   "source": [
    "model = Sequential()\n",
    "# And then we add a few layers to it\n",
    "# Encoding\n",
    "model.add(Dense(128, activation = 'relu', input_dim = 784))\n",
    "model.add(Dense(64, activation = 'relu'))\n",
    "# Decoding\n",
    "model.add(Dense(128, activation = 'relu'))\n",
    "model.add(Dense(784, activation = 'sigmoid'))"
   ]
  },
  {
   "cell_type": "markdown",
   "id": "657d9fa3-4e86-4011-8e97-79da98da7e9e",
   "metadata": {},
   "source": [
    "### Compile the model"
   ]
  },
  {
   "cell_type": "code",
   "execution_count": 31,
   "id": "04ebac3c-06f3-457c-9182-0d5885978303",
   "metadata": {},
   "outputs": [],
   "source": [
    "model.compile(optimizer = 'adadelta', loss = 'binary_crossentropy')"
   ]
  },
  {
   "cell_type": "markdown",
   "id": "e56833b1-0e0c-4aff-a130-4724bbdba520",
   "metadata": {},
   "source": [
    "### Load the dataset"
   ]
  },
  {
   "cell_type": "code",
   "execution_count": 28,
   "id": "150c911c-cb60-4911-915e-591204f630bb",
   "metadata": {},
   "outputs": [
    {
     "name": "stdout",
     "output_type": "stream",
     "text": [
      "x_train shape = (60000, 784)\n",
      "x_test shape = (10000, 784)\n"
     ]
    }
   ],
   "source": [
    "(x_train, _), (x_test, _) =  mnist.load_data() # x_train and just a placeholder for the y value\n",
    "\n",
    "# We can divide the values by 255 to normalize\n",
    "\n",
    "x_train = x_train.astype('float32')/255\n",
    "x_test = x_test.astype('float32')/255\n",
    "\n",
    "# and reshape to a single dimension\n",
    "\n",
    "x_train = x_train.reshape((len(x_train), (np.prod(x_train.shape[1:]))))\n",
    "x_test = x_test.reshape((len(x_test), (np.prod(x_test.shape[1:]))))\n",
    "\n",
    "# print the value of the shapes\n",
    "print(f'x_train shape = {x_train.shape}')\n",
    "print(f'x_test shape = {x_test.shape}')"
   ]
  },
  {
   "cell_type": "markdown",
   "id": "a5ca6939-b942-45a9-8f2c-9c6f22df193f",
   "metadata": {},
   "source": [
    "### Fit the model"
   ]
  },
  {
   "cell_type": "code",
   "execution_count": 32,
   "id": "d5743977-1c7d-410c-b9fb-33f23b2431f6",
   "metadata": {},
   "outputs": [
    {
     "name": "stdout",
     "output_type": "stream",
     "text": [
      "Epoch 1/50\n",
      "60000/60000 [==============================] - 4s 64us/step - loss: 0.3224\n",
      "Epoch 2/50\n",
      "60000/60000 [==============================] - 3s 53us/step - loss: 0.2506\n",
      "Epoch 3/50\n",
      "60000/60000 [==============================] - 3s 52us/step - loss: 0.2254\n",
      "Epoch 4/50\n",
      "60000/60000 [==============================] - 3s 55us/step - loss: 0.2009\n",
      "Epoch 5/50\n",
      "60000/60000 [==============================] - 3s 53us/step - loss: 0.1853\n",
      "Epoch 6/50\n",
      "60000/60000 [==============================] - 3s 58us/step - loss: 0.1748\n",
      "Epoch 7/50\n",
      "60000/60000 [==============================] - 3s 54us/step - loss: 0.1662\n",
      "Epoch 8/50\n",
      "60000/60000 [==============================] - 3s 54us/step - loss: 0.1591\n",
      "Epoch 9/50\n",
      "60000/60000 [==============================] - 3s 52us/step - loss: 0.1529\n",
      "Epoch 10/50\n",
      "60000/60000 [==============================] - 3s 56us/step - loss: 0.1471\n",
      "Epoch 11/50\n",
      "60000/60000 [==============================] - 3s 53us/step - loss: 0.1418\n",
      "Epoch 12/50\n",
      "60000/60000 [==============================] - 3s 50us/step - loss: 0.1376\n",
      "Epoch 13/50\n",
      "60000/60000 [==============================] - 3s 49us/step - loss: 0.1339\n",
      "Epoch 14/50\n",
      "60000/60000 [==============================] - 3s 48us/step - loss: 0.1307\n",
      "Epoch 15/50\n",
      "60000/60000 [==============================] - 3s 47us/step - loss: 0.1283\n",
      "Epoch 16/50\n",
      "60000/60000 [==============================] - 3s 47us/step - loss: 0.1259\n",
      "Epoch 17/50\n",
      "60000/60000 [==============================] - 3s 47us/step - loss: 0.1238\n",
      "Epoch 18/50\n",
      "60000/60000 [==============================] - 3s 47us/step - loss: 0.1216\n",
      "Epoch 19/50\n",
      "60000/60000 [==============================] - 3s 48us/step - loss: 0.1199\n",
      "Epoch 20/50\n",
      "60000/60000 [==============================] - 3s 48us/step - loss: 0.1183\n",
      "Epoch 21/50\n",
      "60000/60000 [==============================] - 3s 47us/step - loss: 0.1166:\n",
      "Epoch 22/50\n",
      "60000/60000 [==============================] - 3s 47us/step - loss: 0.1153\n",
      "Epoch 23/50\n",
      "60000/60000 [==============================] - 3s 50us/step - loss: 0.1141\n",
      "Epoch 24/50\n",
      "60000/60000 [==============================] - 3s 58us/step - loss: 0.1129\n",
      "Epoch 25/50\n",
      "60000/60000 [==============================] - 3s 53us/step - loss: 0.1115\n",
      "Epoch 26/50\n",
      "60000/60000 [==============================] - 3s 52us/step - loss: 0.1103\n",
      "Epoch 27/50\n",
      "60000/60000 [==============================] - 3s 52us/step - loss: 0.1090\n",
      "Epoch 28/50\n",
      "60000/60000 [==============================] - 3s 49us/step - loss: 0.1080\n",
      "Epoch 29/50\n",
      "60000/60000 [==============================] - 3s 49us/step - loss: 0.1071\n",
      "Epoch 30/50\n",
      "60000/60000 [==============================] - 3s 50us/step - loss: 0.1061: \n",
      "Epoch 31/50\n",
      "60000/60000 [==============================] - 3s 52us/step - loss: 0.1053\n",
      "Epoch 32/50\n",
      "60000/60000 [==============================] - 3s 55us/step - loss: 0.1045\n",
      "Epoch 33/50\n",
      "60000/60000 [==============================] - 3s 54us/step - loss: 0.1039\n",
      "Epoch 34/50\n",
      "60000/60000 [==============================] - 3s 51us/step - loss: 0.1032\n",
      "Epoch 35/50\n",
      "60000/60000 [==============================] - 3s 48us/step - loss: 0.1024\n",
      "Epoch 36/50\n",
      "60000/60000 [==============================] - 3s 51us/step - loss: 0.1018: 0\n",
      "Epoch 37/50\n",
      "60000/60000 [==============================] - 3s 56us/step - loss: 0.1014\n",
      "Epoch 38/50\n",
      "60000/60000 [==============================] - 3s 54us/step - loss: 0.1007\n",
      "Epoch 39/50\n",
      "60000/60000 [==============================] - 3s 54us/step - loss: 0.1003\n",
      "Epoch 40/50\n",
      "60000/60000 [==============================] - 3s 57us/step - loss: 0.0997\n",
      "Epoch 41/50\n",
      "60000/60000 [==============================] - 3s 54us/step - loss: 0.0993\n",
      "Epoch 42/50\n",
      "60000/60000 [==============================] - 3s 52us/step - loss: 0.0988\n",
      "Epoch 43/50\n",
      "60000/60000 [==============================] - 3s 48us/step - loss: 0.0985\n",
      "Epoch 44/50\n",
      "60000/60000 [==============================] - 3s 48us/step - loss: 0.0980\n",
      "Epoch 45/50\n",
      "60000/60000 [==============================] - 3s 48us/step - loss: 0.0976\n",
      "Epoch 46/50\n",
      "60000/60000 [==============================] - 3s 48us/step - loss: 0.0973\n",
      "Epoch 47/50\n",
      "60000/60000 [==============================] - 3s 50us/step - loss: 0.0969\n",
      "Epoch 48/50\n",
      "60000/60000 [==============================] - 3s 47us/step - loss: 0.0964\n",
      "Epoch 49/50\n",
      "60000/60000 [==============================] - 3s 47us/step - loss: 0.0960\n",
      "Epoch 50/50\n",
      "60000/60000 [==============================] - 3s 48us/step - loss: 0.0957\n"
     ]
    },
    {
     "data": {
      "text/plain": [
       "<keras.callbacks.callbacks.History at 0x181b866d828>"
      ]
     },
     "execution_count": 32,
     "metadata": {},
     "output_type": "execute_result"
    }
   ],
   "source": [
    "model.fit(x_train, x_train, epochs = 50, batch_size = 256)"
   ]
  },
  {
   "cell_type": "markdown",
   "id": "9b5b5a2f-99db-48eb-8fcf-f04918c0024f",
   "metadata": {},
   "source": [
    "### Predict Output"
   ]
  },
  {
   "cell_type": "code",
   "execution_count": 34,
   "id": "1ad5830e-fc17-46cd-8225-7f62a47fef96",
   "metadata": {},
   "outputs": [],
   "source": [
    "# Store all the outputs\n",
    "\n",
    "out_images = model.predict(x_test, batch_size=256)"
   ]
  },
  {
   "cell_type": "markdown",
   "id": "0b6881ae-2965-46c5-b584-b4adcb6ac780",
   "metadata": {},
   "source": [
    "### Plot the images"
   ]
  },
  {
   "cell_type": "code",
   "execution_count": 35,
   "id": "38be6bf6-313c-486f-8ab1-a4fc30b86058",
   "metadata": {},
   "outputs": [
    {
     "data": {
      "image/png": "iVBORw0KGgoAAAANSUhEUgAABG0AAADnCAYAAACkCqtqAAAAOXRFWHRTb2Z0d2FyZQBNYXRwbG90bGliIHZlcnNpb24zLjMuNCwgaHR0cHM6Ly9tYXRwbG90bGliLm9yZy8QVMy6AAAACXBIWXMAAAsTAAALEwEAmpwYAABCd0lEQVR4nO3debxV8/7H8W/miFJKaC6lhChkyJgQpYjCzzzP8zzcrvH+uOahdHEpyViE9CPjDZmnUigqDRqUyDyc3x8e9+P9/Thrtc9u73PW2ef1/OuzfL9n79Va+7v22sv38/3UKisrCwAAAAAAAMiWFap6BwAAAAAAAPBXPLQBAAAAAADIIB7aAAAAAAAAZBAPbQAAAAAAADKIhzYAAAAAAAAZxEMbAAAAAACADFqpIp1r1apFffAqUlZWVqsQr8M5rFILy8rKGhbihTiPVYexWBIYiyWAsVgSGIslgLFYEhiLJYCxWBLKHYvMtAEqz4yq3gEAIQTGIpAVjEUgGxiLQDaUOxZ5aAMAAAAAAJBBPLQBAAAAAADIIB7aAAAAAAAAZBAPbQAAAAAAADKIhzYAAAAAAAAZxEMbAAAAAACADOKhDQAAAAAAQAbx0AYAAAAAACCDVqrqHUDNdPbZZ1tcu3btqG3TTTe1uF+/fomvMWjQIItfe+21qG3YsGHLu4sAAAAAAFQpZtoAAAAAAABkEA9tAAAAAAAAMoiHNgAAAAAAABnEmjaoNA8++KDFaWvVqN9//z2x7bjjjrO4e/fuUdtLL71k8cyZM3PdRVSxtm3bRttTpkyx+LTTTrP4lltuqbR9qsnWWGMNi6+99lqLdeyFEMLbb79t8f777x+1zZgxo0h7BwAAUDXWXntti5s1a5bT3/h7ojPOOMPiiRMnWvzJJ59E/d5///18dhElhJk2AAAAAAAAGcRDGwAAAAAAgAwiPQpFo+lQIeSeEqUpMf/3f/9ncatWraJ+vXr1srh169ZR28EHH2zx1VdfndP7ouptvvnm0bamx82aNauyd6fGW2+99Sw+5phjLPZpi507d7Z47733jtpuu+22Iu0d1BZbbGHxyJEjo7YWLVoU7X179OgRbU+ePNniL774omjvi2XT78gQQhg9erTFJ598ssWDBw+O+v3222/F3bES1KhRI4sfeughi1999dWo35AhQyyePn160ffrv+rWrRtt77DDDhaPHTvW4l9++aXS9gmoDvbaay+Le/fuHbXttNNOFrdp0yan1/NpT82bN7d41VVXTfy7FVdcMafXR+lipg0AAAAAAEAG8dAGAAAAAAAgg0iPQkF16dLF4r59+yb2mzRpksV+uuHChQstXrp0qcWrrLJK1G/ChAkWb7bZZlFbgwYNctxjZEmnTp2i7e+++87iUaNGVfLe1DwNGzaMtu+9994q2hNU1O67725x2hTrQvMpOEceeaTFAwYMqLT9wB/0u+/2229P7HfrrbdafPfdd0dtP/zwQ+F3rMRo1ZgQ4nsaTUWaN29e1K+qUqK0wl8I8bVe01unTp1a/B2rZtZaa61oW1PuO3bsaLGvYkqqWbbpsgonnXSSxZoKHkIItWvXtrhWrVrL/b6+SiqQK2baAAAAAAAAZBAPbQAAAAAAADKIhzYAAAAAAAAZVKVr2vgS0JpHOGfOnKjtxx9/tHj48OEWf/nll1E/8nGrlpYI9rmfmvOt6y/MnTs3p9c+66yzou0OHTok9n3qqadyek1UPc0J1zK0IYQwbNiwyt6dGufUU0+1uE+fPlHbVlttVeHX01KyIYSwwgp//r+B999/3+KXX365wq+N2Eor/fkV3rNnzyrZB79WxplnnmnxGmusEbXpGlUoDh1/TZo0Sew3YsQIi/X+CsnWWWcdix988MGorX79+hbrWkKnnHJK8XcswcUXX2xxy5Yto7bjjjvOYu6b/+rggw+2+Morr4zamjZtWu7f+LVvvvrqq8LvGApGr4+nnXZaUd9rypQpFutvIRSOllzXa3UI8RqrWqY9hBB+//13iwcPHmzxK6+8EvXLwnWSmTYAAAAAAAAZxEMbAAAAAACADKrS9Khrrrkm2m7RokVOf6fTOr/99tuorTKnnc2aNcti/2956623Km0/suSJJ56wWKeqhRCfq0WLFlX4tX352JVXXrnCr4Hs2WijjSz26RR+CjoK74YbbrBYp4nma999903cnjFjhsX9+/eP+vk0GyzbzjvvbPE222xjsf8+KiZf+ljTVldfffWojfSowvPl3S+66KKc/k5TT8vKygq6T6Vqiy22sNhPsVeXXXZZJezNX2288cbRtqaUjxo1Kmrju/WvNF3mxhtvtLhBgwZRv6Txcsstt0Tbmu6dzz0vcuNTYTTVSVNcxo4dG/X76aefLF6yZInF/ntK70ufeeaZqG3ixIkWv/766xa/++67Ub8ffvgh8fWRO11OIYR4jOm9pv9M5Grrrbe2+Ndff43aPv74Y4vHjx8fteln7ueff87rvXPBTBsAAAAAAIAM4qENAAAAAABABvHQBgAAAAAAIIOqdE0bLfEdQgibbrqpxZMnT47a2rdvb3FaXnHXrl0t/uKLLyxOKtFXHs1jW7BggcVaztqbOXNmtF1T17RRun5Fvs455xyL27Ztm9hPc0nL20Z2nXvuuRb7zwzjqDjGjBljsZbkzpeWNl26dGnU1rx5c4u17Owbb7wR9VtxxRWXez9Knc/n1rLN06ZNs/iqq66qtH3aZ599Ku298FebbLJJtN25c+fEvnpv8/TTTxdtn0pFo0aNou399tsvse9RRx1lsd43FpuuYzNu3LjEfn5NG78eJEI4++yzLdYS7rny67TtscceFvuy4br+TTHXwChVaevMbLbZZhZrqWdvwoQJFuvvyunTp0f9mjVrZrGuZRpCYdYBxF/p84CTTjrJYj/G1lprrXL/fvbs2dH2f/7zH4s///zzqE1/g+jailtttVXUT68JPXv2jNref/99i7VseKEx0wYAAAAAACCDeGgDAAAAAACQQVWaHvXcc8+lbitfqu2/fLnRTp06WazTnLbccsuc9+vHH3+0+JNPPrHYp2zpVCmdmo7ls/fee1uspTNXWWWVqN/8+fMtvuCCC6K277//vkh7h+XVokWLaLtLly4W63gLgdKIhbLjjjtG2+3atbNYp/fmOtXXT//U6claOjOEEHbZZReL08oRn3DCCRYPGjQop/2oaS6++OJoW6eI61R8n6JWaPrd5z9bTBevXGkpO55PI0C66667Ltr+n//5H4v1/jKEEB5++OFK2SevW7duFq+77rpR2z333GPxfffdV1m7VG1o6m4IIRxxxBHl9vvggw+i7Xnz5lncvXv3xNevW7euxZp6FUIIw4cPt/jLL79c9s7WcP7+//7777dY06FCiNOD01IGlU+JUn75CxTeHXfcEW1rWlta+W59bvDhhx9afOGFF0b99He9t+2221qs96F333131E+fL+g1IIQQbrvtNosfffRRiwudKstMGwAAAAAAgAzioQ0AAAAAAEAGVWl6VCEsXrw42n7hhRfK7ZeWepVGpx77VCydivXggw/m9fr4K02X8VMilR7zl156qaj7hMLx6RSqMqtulDpNQ3vggQeitrTppkqreemUz7///e9Rv7R0RH2NY4891uKGDRtG/a655hqLV1tttajt1ltvtfiXX35Z1m6XlH79+lnsKxZMnTrV4sqstKZpbj4d6sUXX7T466+/rqQ9qrl22GGHxDZflSYtPRF/VVZWFm3rZ33OnDlRWzErANWuXTva1qn/J554osV+f4888sii7VMp0HSHEEJYc801LdZqM/6eRb+fDjzwQIt9Skbr1q0tbty4cdT2+OOPW7znnntavGjRolx2vUaoU6eOxX4JBF1GYeHChVHbP//5T4tZKiE7/H2dVm06+uijo7ZatWpZrL8LfOr8tddea3G+yyk0aNDAYq1iOnDgwKifLtPiUysrCzNtAAAAAAAAMoiHNgAAAAAAABnEQxsAAAAAAIAMqvZr2hRDo0aNLL799tstXmGF+BmXlqMmDzV/jz32WLTdo0ePcvsNHTo02vblb1E9bLLJJoltuq4Jls9KK/15ec91DRu/NtSAAQMs9nnjudI1ba6++mqLr7/++qjf6quvbrH/HIwePdriadOm5bUf1dX+++9vsR6jEOLvp2LTNZIOPvhgi3/77beo3xVXXGFxTVt/qLJoiVKNPZ/j/9577xVrl2qcvfbaK9rWcuq6lpNfgyFXuo7KTjvtFLV17dq13L955JFH8nqvmmrVVVeNtnVNoBtuuCHx77R88L///W+L9VodQgitWrVKfA1da6WY6yFVZ3369LH4/PPPj9q0DLeWvQ8hhCVLlhR1v5Affx0755xzLNY1bEIIYfbs2Rbr2rJvvPFGXu+ta9U0bdo0atPflmPGjLHYr2Or/P4OGzbM4mKu5cdMGwAAAAAAgAzioQ0AAAAAAEAGkR5VjpNOOsliLUvry4t//PHHlbZPpWa99daz2E/v1imrmpKh0+5DCGHp0qVF2jsUmk7nPuKII6K2d9991+Jnn3220vYJf9BS0b5EbL4pUUk0zUlTbEIIYcsttyzoe1VXdevWjbaTUiFCyD/1Ih9arl3T7SZPnhz1e+GFFyptn2qqXMdKZX4+StFNN90Ube+8884Wr7/++lGbll7XqfO9e/fO6731NXwpb/XZZ59Z7EtOI52W6/Y0/c2n8Cfp0qVLzu89YcIEi7mXLV9a6qfeN86aNasydgfLSVOUQvhrarX69ddfLd56660t7tevX9Rvo402Kvfvf/jhh2i7ffv25cYhxPe56667buI+qXnz5kXblZUWzkwbAAAAAACADOKhDQAAAAAAQAaRHhVC2G677aJtv0r5f+lK5iGEMHHixGLtUsl79NFHLW7QoEFiv/vuu8/imlY1ppR0797d4vr160dtY8eOtVirMqBwfOU7pVNPi02n/Pt9StvHgQMHWnzIIYcUfL+yxFc02WCDDSweMWJEZe+Oad26dbn/ne/BypeWhlGIykX4w9tvvx1tb7rpphZ36tQpattjjz0s1qooCxYsiPrde++9Ob23ViN5//33E/u9+uqrFnOPVDH+eqqpbJqC6FMwtAJm3759LfbVZnQs+rZjjjnGYj3XH330US67XiP4VBil4+1vf/tb1Pb4449bTMW87Hj++eejbU2l1t8IIYTQrFkzi2+++WaL01JFNd3Kp2KlSUqJ+v3336PtUaNGWXzqqadGbXPnzs35/ZYHM20AAAAAAAAyiIc2AAAAAAAAGcRDGwAAAAAAgAxiTZsQQs+ePaPtlVde2eLnnnvO4tdee63S9qkUab7wFltskdjvxRdftNjnqqJ62myzzSz2OamPPPJIZe9OjXD88cdb7HNzq0qvXr0s3nzzzaM23Ue/v7qmTan79ttvo23Nydc1NUKI14datGhRQfejUaNG0XbS+gLjx48v6PuifNtvv73FBx10UGK/JUuWWEwp3MJavHixxb60vW6fd955y/1erVq1sljXAgshviacffbZy/1eNdW4ceOibR07um6NX2cmaV0N/3onnXSSxU8++WTUtuGGG1qs62Po93ZN17BhQ4v9PYGu/XbppZdGbRdffLHFgwcPtljLrIcQr5sydepUiydNmpS4TxtvvHG0rb8Lud6m82W4dT2oevXqRW26tqyuO/vVV19F/WbOnGmxfib0N0cIIWy11VYV3t8hQ4ZE2xdeeKHFul5VZWKmDQAAAAAAQAbx0AYAAAAAACCDamx6VO3atS3W0nEhhPDzzz9brOk5v/zyS/F3rIT4Ut46tUxT0Dyd+rt06dKC7xcqR+PGjS3u1q2bxR9//HHUT8vooXA0Faky6ZTmEELo0KGDxXoNSOPL5Naka6+fQqxlfPfbb7+o7amnnrL4+uuvr/B7dezYMdrWlIwWLVpEbUkpAVlJvSt1+n26wgrJ/7/t2WefrYzdQZFpyocfe5p+5a+VyJ1PKT3ggAMs1rTtunXrJr7GLbfcYrFPi/vxxx8tHjlyZNSm6R+77767xa1bt4761eQy7v/85z8tPvPMM3P+O70+nnjiieXGhaLjT5d2GDBgQMHfq5T5dCMdH/kYOnRotJ2WHqUp6fo5u+eee6J+WlK8qjDTBgAAAAAAIIN4aAMAAAAAAJBBPLQBAAAAAADIoBq7ps0555xjsS89O3bsWItfffXVStunUnPWWWdF21tuuWW5/R577LFomzLfpeHwww+3WMsHP/3001WwN6gsF110UbStZU/TTJ8+3eLDDjssatOyjjWNXg996d+99trL4hEjRlT4tRcuXBht69oZ66yzTk6v4fO+URxJJdf9WgB33HFHJewNCm3//fePtg899FCLdc2FEP5a9haFoSW7dbwddNBBUT8dc7r2kK5h411++eXRdvv27S3u3bt3ua8Xwl+/C2sSXdfkwQcfjNruv/9+i1daKf4p27RpU4vT1v8qBF3DTz8zWnY8hBCuuOKKou4HQjj33HMtrsiaQscff7zF+dxHVSZm2gAAAAAAAGQQD20AAAAAAAAyqMakR+k08hBCuOSSSyz+5ptvorbLLrusUvap1OVaou/kk0+OtinzXRqaN29e7n9fvHhxJe8Jim3MmDEWt2vXLq/X+OijjyweP378cu9TqZgyZYrFWpI2hBA6depkcZs2bSr82lrW1rv33nuj7YMPPrjcfr5EOQqjSZMm0bZP0fivWbNmRdtvvfVW0fYJxbPnnnsmtj355JPR9jvvvFPs3anxNFVK43z566Sm+2h61M477xz1q1+/vsW+RHmp0xLL/rrWtm3bxL/bddddLV555ZUtHjhwYNQvacmGfGn6cufOnQv62ijf0UcfbbGmpPmUOTVp0qRoe+TIkYXfsSJhpg0AAAAAAEAG8dAGAAAAAAAgg0o6PapBgwYW33zzzVHbiiuuaLFO7Q8hhAkTJhR3xxDR6Z8hhPDLL79U+DWWLFmS+Bo6PbJu3bqJr1GvXr1oO9f0Lp3Ced5550Vt33//fU6vUYr23nvvcv/7E088Ucl7UjPpVN20Cgpp0/KHDBli8frrr5/YT1//999/z3UXI7169crr72qy9957r9y4ED777LOc+nXs2DHanjhxYkH3o6badttto+2kMeyrL6J68tfh7777zuLrrruusncHRfbQQw9ZrOlR/fv3j/rp8gEs3ZCb5557rtz/runEIcTpUb/++qvF//73v6N+//rXvyw+/fTTo7aktFUUx1ZbbRVt67WxTp06iX+ny25otagQQvjpp58KtHfFx0wbAAAAAACADOKhDQAAAAAAQAbx0AYAAAAAACCDSm5NG12rZuzYsRa3bNky6jdt2jSLtfw3Kt8HH3yw3K/x8MMPR9tz5861eN1117XY5wsX2pdffhltX3nllUV9vyzZfvvto+3GjRtX0Z4ghBAGDRpk8TXXXJPYT8vJpq1Hk+taNbn2Gzx4cE79UDV0TaTytv+LNWyKQ9fk8xYuXGjxTTfdVBm7gyLQtRX0PiWEEObPn28xJb5Lj35P6vfzPvvsE/X729/+ZvEDDzwQtX3yySdF2rvS9Mwzz0Tben+uJaKPOeaYqF+bNm0s3mmnnXJ6r1mzZuWxh1gWv/bhmmuuWW4/XRMshHjdqFdeeaXwO1ZJmGkDAAAAAACQQTy0AQAAAAAAyKCSS49q3bq1xZ07d07sp+WcNVUKheNLqftpn4W0//775/V3WuYvLa1j9OjRFr/11luJ/f7zn//ktR+loG/fvtG2piq+++67Fr/88suVtk812ciRIy0+55xzoraGDRsW7X0XLFgQbU+ePNniY4891mJNYUT2lJWVpW6juHbffffEtpkzZ1q8ZMmSytgdFIGmR/nx9dRTTyX+naYErL322hbr5wLVx3vvvWfxpZdeGrVde+21Fl911VVR2yGHHGLxDz/8UJydKyF6LxJCXHb9gAMOSPy7nXfeObHtt99+s1jH7Pnnn5/PLqIcer0799xzc/qb4cOHR9svvvhiIXepyjDTBgAAAAAAIIN4aAMAAAAAAJBBPLQBAAAAAADIoGq/pk3z5s2jbV/S7b/8mg5a5hbFse+++0bbmou48sor5/QaG2+8scUVKdd99913Wzx9+vTEfo8++qjFU6ZMyfn18YfVV1/d4p49eyb2e+SRRyzWHGAUz4wZMyweMGBA1NanTx+LTzvttIK+ry9zf9tttxX09VE5VltttcQ21k8oDv1e1PX5vB9//NHiX375paj7hKqh35MHH3xw1HbGGWdYPGnSJIsPO+yw4u8Yimro0KHR9nHHHWexv6e+7LLLLP7ggw+Ku2MlwH9vnX766RbXqVPH4i5dukT9GjVqZLH/PTFs2DCLBw4cuPw7iRBCfD4++ugji9N+O+oY0HNbSphpAwAAAAAAkEE8tAEAAAAAAMigap8epSVkQwihWbNm5fZ76aWXom3Kl1a+a665Zrn+/qCDDirQnqBQdGr+4sWLozYtk37TTTdV2j7hr3yZdd3WlFJ/Pe3Vq5fFej6HDBkS9atVq5bFOpUV1dcRRxwRbX/99dcWX3755ZW8NzXD77//bvFbb70VtXXs2NHiqVOnVto+oWocffTRFh911FFR21133WUxY7G0LFiwINru3r27xT4157zzzrPYp9Bh2ebNm2ex3utoKfUQQujatavFf//736O2+fPnF2nvarZddtnF4iZNmlic9ttd00Y1hbiUMNMGAAAAAAAgg3hoAwAAAAAAkEG1KpImVKtWrUzkFG2//fYWjxkzJmrTFafVVlttFW37qcdZV1ZWVmvZvZYtK+ewhnq7rKysy7K7LRvnseowFksCY3EZnnjiiWj7+uuvt/iFF16o7N0pVymPxfXXXz/avuKKKyx+++23LS6B6mw1dizqvaxWAgohTmEdNGhQ1KapyD///HOR9q5iSnksZoWvjrvNNttYvPXWW1u8HCnKNXYslpJSGIvvv/++xZtsskliv2uvvdZiTRcsAeWORWbaAAAAAAAAZBAPbQAAAAAAADKIhzYAAAAAAAAZVC1Lfnfr1s3ipDVsQghh2rRpFi9durSo+wQAQKnQEqiofHPmzIm2jzzyyCraExTL+PHjLdYSt0B5+vXrF23ruh9t2rSxeDnWtAEyoX79+hbXqvXnEj2+xPqNN95YWbuUCcy0AQAAAAAAyCAe2gAAAAAAAGRQtUyPSqPTBXfddVeLFy1aVBW7AwAAAAB5++abb6Ltli1bVtGeAMV1/fXXlxtffvnlUb+5c+dW2j5lATNtAAAAAAAAMoiHNgAAAAAAABnEQxsAAAAAAIAMqlVWVpZ751q1cu+MgiorK6u17F7LxjmsUm+XlZV1KcQLcR6rDmOxJDAWSwBjsSQwFksAY7EkMBZLAGOxJJQ7FplpAwAAAAAAkEE8tAEAAAAAAMigipb8XhhCmFGMHUGq5gV8Lc5h1eE8Vn+cw9LAeaz+OIelgfNY/XEOSwPnsfrjHJaGcs9jhda0AQAAAAAAQOUgPQoAAAAAACCDeGgDAAAAAACQQTy0AQAAAAAAyCAe2gAAAAAAAGQQD20AAAAAAAAyiIc2AAAAAAAAGcRDGwAAAAAAgAzioQ0AAAAAAEAG8dAGAAAAAAAgg3hoAwAAAAAAkEE8tAEAAAAAAMggHtoAAAAAAABkEA9tAAAAAAAAMoiHNgAAAAAAABnEQxsAAAAAAIAM4qENAAAAAABABvHQBgAAAAAAIIN4aAMAAAAAAJBBPLQBAAAAAADIIB7aAAAAAAAAZBAPbQAAAAAAADKIhzYAAAAAAAAZtFJFOteqVausWDuCdGVlZbUK8Tqcwyq1sKysrGEhXojzWHUYiyWBsVgCGIslgbFYAhiLJYGxWAIYiyWh3LHITBug8syo6h0AEEJgLAJZwVgEsoGxCGRDuWOxQjNtAAAAAADJVljhz/8v/vvvv+f0N7VqxZMkysqY7ADgD8y0AQAAAAAAyCAe2gAAAAAAAGQQD20AAAAAAAAyiDVtUDS55ubmm8Orf0feLwAAALIg13VsFPeyAJIw0wYAAAAAACCDeGgDAAAAAACQQaRHYbn41KbatWtbvPLKK0dtnTp1snjttde2eNddd436ffTRRxZPmzbN4tVWWy3q99lnn1m8ePHiqG3BggUW//LLLxYXYuopJRmLxx/bpBQ4jnnl0/KlK664YtSm08D9lHDOFQAAKGWrrrqqxSutFP+8btq0qcX62yWE+B7pt99+szif9DqUNmbaAAAAAAAAZBAPbQAAAAAAADKIhzYAAAAAAAAZxJo2qLA6depYvM0220Rt3bp1s3iNNdaI2vbff3+LdU0bXSsjhDiPU9t0bZoQQvjkk08sHjFiRNQ2fPhwixcuXGhxIdbXYI2O5ePP95prrmlx+/bto7YmTZpYrGsdzZo1K+q3dOlSi8kDrhhdN0hzskMIoWPHjhafdNJJFnfu3DnqpznaF154YdQ2efJkixk7xePXg1I65vQcFGOspO2H4rNQHHr8V1999ahN15n78ccfLf7555+jflxDK07HmK5n4Y+lrlnBGKg50q6L+X4O9DU1ZvwWjz+PzZs3t7h///4Wd+nSJepXt25di8ePHx+1vffeexY/++yzFvvfPL/++mvFdxglhZk2AAAAAAAAGcRDGwAAAAAAgAwiPQo50am/GvvpequssorFPXr0iNo0XUpLdH/77bdRPy0nrG06nTuEeOqgltMLIU650fLfqHo+PapevXoW+ymlLVq0sFinnH/11VdRv++//95ipgbnz6dHHX300Rbvt99+FmuaRQghNG7c2GKfOvXpp59a7Kf7omL81Gw9Xxrr9S+EOP3lm2++Kfe/h5D7NP2kVJAQ4vQP36b7r98d/nuEtJHc+c+ETsPv3bt31LbLLrtY/M4771g8dOjQqN+SJUss5lz8ST/3jRo1itr69etnsY6B119/Peqn10NN6y3EcdZ7pxBCWG211Sz26eq6j3pN4Bq9bElpSWn8+U063/710l5f2/T10pYcwLL546f3N5omHkIIRx11lMXrrLNO4mvod5wuIxFC/Hvonnvusfi2226L+s2ZM8dirss1EzNtAAAAAAAAMoiHNgAAAAAAABlU6elRfsqY0undvp9Ox9cp3T/99FPUT6d8ojh0mp8/3jodd/78+VGbrpD+zDPPWPzaa69F/TT1Rad677rrrlE/nY68ww47RG2PP/64xVrZBlXPT9WtXbu2xeuuu27UptO29fOzaNGiqB+r6udPp9TvscceUVufPn0s1ko0fsq2puPstttuUdsbb7xh8bRp0yzmnOUmrbqXVq7o0KGDxT6V9MMPP7S4EJVKNA3Wp13o6/v90HNeU6fsF7qKjH+9du3aWewruTVs2NBi/a6+9957l3s/SoUeTz1GIYRw5JFHWnz88cdHbZoaMXXqVIt/+OGHqN/06dPLfa98j7lev/X8hhDCIYccYrG/drzyyisWT5kyxWKfeuxTKLOqEMdS6W8OPbchhNCsWTOLtRKq3qOEEKfm53q9S0uj8mM9qc2nyZXitTbXtLS0v9FzvPHGG1v8j3/8I+rXtWtXi/33Xa6pcpoq7H/f6mvqb560pSO4f6oYPTc+vT/pvPljrOOoqr4jmWkDAAAAAACQQTy0AQAAAAAAyCAe2gAAAAAAAGRQUda08fl6mhes6yJoPn4IIey9994Wt2/fPmrTnD/NL/XroehaKZo77HMDdduXJU0qnVqnTp2on+b66loNIcRr7ZRaPqmuYzNv3ryobeHChRaPHj06ahs3bpzFs2bNstifG80V1DYtlRlCCK1bt7ZY80BDCKFNmzYWv/rqqxZTzjJ7dFzttNNOUdsLL7xgsZY7JJ93+WgOb69evSy+++67o356vVY+n1dzrXWtqRDitahuuOEGi2+99daon1//BH/QY9uqVauoTY91ly5dLH766aejfp988onFaXnZaXnaSWt9+BLvWsZY18oIIS4lnYX88FKk91H6Pejpfc/3339f1H3KuqT1mvz6XKeccorFLVu2jNr0frBevXoW6/o2IcRr3OSzXomn14dNN900atP99/dIeh+na69o+eHqJJ9riL/3b9u2rcW6zlOLFi2ifvq7QI+dL9E8ePBgi7/++usK79+y6OdCf3el3R+VYjlwv16Tnle9h9G1iEII4cQTT7S4b9++Fuv5DSE+Zn4dT71v0WPp103Rv/PrbH7wwQcWjxw50mL/e6UUzlU+9HPux6xu63nTsRxCCJdcconFnTp1itr0fubLL7+0eNiwYVE//T0yefLkqE1/q+q1yF+XlnfdXWbaAAAAAAAAZBAPbQAAAAAAADKoYOlROn1MS/iGEE890nKUfurpvvvua3Hjxo0TX0M1adIk2tap/jo9zf+9TqfzU4Pnzp1rsU698ulRWkb1iiuuiNp0ulvaVKnqImm/fXrUQw89ZLGfDqrTbvNJU/IlNjVVwJfVbNSoUYVfH+UrdIlaP73xiCOOsNinTGr5UZ2GWl3HUVbo9fXmm2+2OCkdall0ir4vN6rvddVVV1ncv3//qF/Pnj0t1jTLEGr2+dbvrr322itq89+h/+VTSWfPnm2xTp2vyHHVvlrm1qc0zpw502JNywqh5qZE6f1RWnpCPsfEj9ljjjnG4rTSv5rSXdPTTfU7Tu9f/TR6/dz7VAW9v9E007feeivql08aaNrnQj9PPo1H07Q0ZT+E+BqhKVz+3qzQpbQrm79/0Xt/f35vv/12izXVzI8jPQ5aZv2AAw6I+mkqhKZbhRCnVeV6XNP65Zp2USopNvp7bIsttoja9Decnv8GDRokvoaeYz9W5s+fb7FPIX/44YctXm+99Sxu2rRp1E/Pt19OQ38raQqx349S5seppqnqPWSfPn2ifj169LBY04HXX3/9qJ9e19PGs/Y7+eSTo356r6OfiRBCuOeeeyx+5513LPa/TfV5Qz7XU2baAAAAAAAAZBAPbQAAAAAAADKIhzYAAAAAAAAZVLA1bTRPUksfhhDniGnems8r05w/v+6FvsaiRYss9uumaG72uuuua7Ev9ab5clqiNIT436L54j5HTtfM6d69e9Q2adIki0uhzLTm3ukx/u6776J+Wmbd59jmU+pMz3u3bt0S+/lj/Oijj1pc0/P1l1daKdJ8rLXWWtH25ptvbrHP4dUSe6UwjqqKX0dj+PDhFm+wwQY5vYYefz+m9PX95yVpvZuOHTtG/e666y6LjzvuuKhNyzBWx3UVKsIfP/3e8Wsm6BpQjzzyiMV+HQ0dV/keP90v3adtt9026te1a1eLX3755ahN16iqqdLWCMuHL22q6654eq8zZMgQi0t9THn+HOj2GmuskdhPx5G/Buo1asSIERbns4bNsuh+6fneeuuto366fsvHH38ctb333nsW673Z8pakLaZ81tdJWyujX79+UZt+J/nfJ0q/C/W8+3ub8847z2K/Psbhhx9u8SuvvFLua4eQe+n3Uh/D/jeh/ubae++9o7ZRo0ZZPH78eIs///zzqJ+uPbLnnnta7NcJ07U6de2qEOLjrmPM33OptPOY5fFXaHp9at26ddR2yCGHWKzr1vh1bHP93Ou40vLcfluv8bomWAjxbxV/Xdfz/c0331isa996+fy2YqYNAAAAAABABvHQBgAAAAAAIIMKlh6l/BQfTZfS0oK+FNaECRMs9lOPdAqiTmXy5bp1amv79u0t1lLjIcRTQz/77LOoTUu1nXbaaRb7MuQ6HUpLqoZQ2ik5xZ5Kq1PGevfubbGWVgwhnsZ2+umnR236OSv1aaPFkDYNOa8ydTJW/FjUaZF+KmFNSospJp36G0I8jT5tqq5eX++//36LtSxlCPEU/XXWWSdq0+tpy5YtLdbUxxBC2G677Sw+55xzoraLLrrIYv+9UWr8tHydGuzTfOfNm2expoT66b+FmGKv+9W3b1+LN9tss6ifllv1r1cq5WaXh//OzOeY6PXUl4HXNAL/2pqupqnMNYEeM39ctE3v3fy1Ju3Yvvbaaxb7lPtcVCRtrm7duhafe+65FvsUck3XGDt2bNQ2a9Ysi7Oaelzo1Gz/mo0aNYra9DjoZ8KX99X7ff3dst9++0X96tevb7FPWxw0aJDFu+22m8V6Xryadg+k56pXr15R2xVXXGGxX6ZB7xf0XsUfP03XHT16tMV+bGu6Sxp9/ZqU5pRGx5G/t9F074svvjhq0+VN9O98irWmwmmaob8H+vTTTy3WpVhCiJc60e/T2267LeqnaXP6rCGEuNy7LtuS9jmg5DcAAAAAAECJ4KENAAAAAABABhUlPcpPB9Ipppr25KfYf/TRRxb76Zo6XU2nFKVNd9NphuPGjUvdR6UpATq90U/n12ngfnpeTZvGWEi6Oriuvu+nKj/xxBMWP/zww1Eb0/CXTz5VGtLo9MZ99903atNzNXny5Kgtn2nm+IOufH/NNddEbauttlq5f+Ordw0cONDie+65x2I/zVXPoU8N1UpDl19+ucU+ZUsrb2haZAgh3HjjjRbrdd2P80J/biuL7revQNK5c2eLtfJJCPE0XE0tzPX6V5FjpNP7daq6r7Sh1TUWLlyY8+uXkrTqRIX4btLPgaaqeX48/+tf/7K4pk3fTzvuOj1ej62/D9V7EK18EkIIm2yyicV6zdNp+Z6mW/n7Sz0/mioQQgg33XSTxZpW6lMCNKX1ueeei9qymhKlCnENT1uuwVcT0nOlKfaaihNCvKSCpvz6KrKafuWrCel1U+9zqtP3VrHpd861114btWk6iqYJhxD/hks7nknpTBUZG0lpjZzHP+i9ok+l1mUtNI0+hPi46n3O+eefH/UbM2aMxfo7PG1ZB9+m1+Ett9zSYn9vo2PYf39qX309X017eT8XzLQBAAAAAADIIB7aAAAAAAAAZBAPbQAAAAAAADKoUkp+a+6Xtvm1D9JyzvJ573xztrVk7RZbbJHYT/Nh33333aiNNVXSab6iLxF8wQUXWKw5rRMnToz6aV63z93P5X2XpSbnpBZiLOqx1vVVNAc/hDgX1Jf81jWwkM5/trUUrJZV9331WvXss89G/YYMGWKxrpfg8/OVv+7q2mXTpk1LfA3NfdZ1rUIIYYcddrBY12koRknYqubL0Gruvl/jadKkSRbrWjK55vGn8ce2VatWFm+wwQaJr6frxy1atCin9yo1Fcmnz5Wej4033thiPS++35dffhm1Pf/883m9d6nTa6DeS+jYCyFe78avQdOlSxeLr7rqKouHDh0a9dPywXqda9euXdRP74/79+8ftbVp08ZiPd9a8jaEEMaPH2+xrgsRQvw5rC5rgaWVbU+Sds/n79sbNmxo8T/+8Q+L58yZE/XTY6Tfb/4+NO33znvvvVduW7G/07L+nan7p59zf0+g64b4NUX9OiK50HPn72F0n/zx0/uWpN+6FZH2XtXld6Xut64X1qFDh6hfixYtyu0XQnwOdX0pv0aY/kbQz4Rfc0z7+XtPXaPv8MMPT+yn/BqrY8eOtdivsVRIzLQBAAAAAADIIB7aAAAAAAAAZFBR0qO8pGli+U71KvRUTl/+9oYbbrBYS37rtNYQQhg2bJjFs2fPjtqyNuUwC3QaoR7Xs846K+q3++67W6wpGXfeeWfUT0vEp32WdIqbL1WcNn01V9VlanG+8p1Oq3/XsWNHi9u3bx/102mLL730UtRWXaaDZsEaa6wRbffr189iP/VU6dRvnRoaQjz1W1XkvGhfn66h9PPipzd/9dVXFuu/Jde0yCxIG0d6jfJpEg0aNLDYpxuNGjXK4mKPlQMPPNBinYbsz8FTTz1lcU0rK52kEN8LeswPOuggi+vUqZP4Xi+++GLU5tMI8Act8avjyJes1/sRHZchxPcWO+20k8W+zK1+3+n58KmPOr3fl8PVa6BeGzV1NIQQ5s+fb7Efi9XxXqXQ17hZs2ZF22+//bbF+pnwx0qv1507d7a4WbNmUT+9p/TfafrdqmPYj9FCnKfqdI+q+6ep9JqaGEL8b1pzzTXzei99DT1Xaemtub5eIdLQfIqPT8mpDvTfsPXWW0dtaamLOsZ0eYUBAwZE/fS+RMeifl+GEB+7tm3bRm2aeqfXcX/OdGw+9thjUZumhedacj4fzLQBAAAAAADIIB7aAAAAAAAAZFCVpkdVhE9rSXrtXKdP6uvp9KoQQthxxx0t1imrt956a9Rv9OjRFutUSvzBT33TqihXX321xfvvv3/UT6cpPvnkkxY//vjjUb+0ykJJKVH+81GI6bZJVRh8W3VSiP3W6awHHHCAxVotKoQQJkyYYLFPM0TuNOUwhL+mSykdY5dcconFvsJIIeiY0HQDP11fx6xPy9LKSDqeq/N4033Xf5NPN9Jp9b6aQTHTw3x1nK5du1qs5+6ZZ56J+k2ePNni6nQ+iimf4+A/25oCsNdee1ns74308zJ8+PDl3o+aIOm4aPWlEOJrqqZxhxBXutTr1YIFC6J+Oma1AumMGTOifppi5e9T9PqtFZDGjBmT2M9Luv6kVXWtjtL2v3HjxtH2brvtZnHz5s0t1hS0EELo1q2bxZqSkfQ7JYS/judtt93W4t69e1t87733Rv3081KIqrpZp/eNPXr0yOlvfKqiprtoxUp/DjR1JylVym+npcqpfFOs9N9fkWq3WaVpSm+88UbUpp97n8Kvx1yruh199NFRP71PSVsGQKVVhVKaDhtCCJdffrnF9913X9Sm37v5LrWRC2baAAAAAAAAZBAPbQAAAAAAADKIhzYAAAAAAAAZVClr2hSC5qppiW5fJjFpjRKfG7jWWmtZfPLJJye+18yZMy2+7bbbon7+vRHz+b1nnnmmxX379k3s9+qrr1p86aWXWuzzC9PWktGcRV1/Id88U329tL+pTrnDxaY5/ltuuaXFfi2TG2+80WItlYeK8Xm6aWU+tfzhW2+9ZXExSjRrzvGhhx5qsS/JqO/tPweae67/luo83pLy1SuyPpqurTB16lSLtdSvfy897v7aq8fTl9bs0KFDuX/36aefRv18aVvkx3+2dU04jT1dJ+W1114r/I6VIL126noEfi0TXW/kzjvvjNp0jT2N/XhIumbpPWkI8fVQ11kMIYRvvvnG4quuusriXO+HQ4j/zYUupZ0l/jqr178NN9wwatN1Znr16mWxv07qtn5XzZ07N+qn51rXWQkhhA022MDiM844w2L9zRFCvK5S2m+OtO/C6lTyW/dVf+v5exM9j379teuuu85iXYvU9zvmmGPKfS+/tt8NN9xg8aJFi6I2XRdJS8h/8cUXUb+0EvL6b0laG6s60X+frk/4wgsvRP302rX55ptHbXq+27RpY7Ffh0qPna4H5K+nfs3HpP3Ve+OBAwdG/QYNGmSxX08w6X6Okt8AAAAAAAA1AA9tAAAAAAAAMiiz6VF+qlFSSdRcp3X619tnn30sbtu2bdSmUxBPOeUUi9OmPuKv/BRuneKrU9r89PoTTjjB4s8++yzx9fWc+vOblhKVK91HjdPKhhez1FvW+SnEmk5Rr149i6dMmRL105KlpTxNu9h0em8I8RR9n3Kj58BP902SVCI2hHiM+TStI444wmItG+1fQ//Of0Y+/vhji6tr+k2u16Evv/wy2taSpS1btozadDq/Tv/V8tAhxKWKNc3Up8/o9OILLrggaqtTp47F+tl6/fXXo34VSe9CMj8+9PtTx7r/znnqqacs1vOEZPq9o/eXvgy3HmufrrG894P+PO68884W+8/CxIkTLX7zzTcT9ylNUpppKdzX5poOpCmlIcT3m5qmotfFEOLvzCuuuMLi0aNHR/20bPi1114btW2yySYWa0njfv36Rf30u89fW32KRpKk5QKySD/r+t2n33UhxOPFX+datWplsS5r0aJFi6hfUolof4x22GEHizV9xr/Gc889Z/G5554b9fOplmr11Ve3WM+p379cz3eW6Gd29uzZUduQIUMsTitvnvZbT78L9TfnXXfdFfXbZpttLPbXBP1tf+qpp1rsx3Pa2Kms6yYzbQAAAAAAADKIhzYAAAAAAAAZxEMbAAAAAACADMrsmjae5vJp7liua2D4HP/jjz/eYl969sknn7T4xRdfLPd9UT49lj43t127dhbrebv++uujftOnT7c4ba2MtJKV+Zwrnz/atGnTct9Ly22GEJcH9PtYk9Zo8Xnf22+/vcU6/kaNGhX1q65lDbPGf+aT8rVDiMep5hynrVWTlnOs79W3b9+o7X//938t9iU3leaov/zyy1HbwoULLc56Tn6u9Njqv8mvo/Hggw9avMcee0RtumaCrnniy1vq9+cHH3xg8Zw5c6J+66+/vsW+ZKbS69pHH32U2Ib8+TWq+vfvb7GONy2pGkIII0aMsJh7ltzocUq61yxve3npNXXPPfeM2nr06GGxvy7rPdN3332X13uX8jhN+97SEt2+BLGWad5yyy3L/ZsQQnjmmWcs1vVt/DHV6+thhx0WtV166aUWt2/f3mK/bomu0+HXO9PPRdo6jrpf/nhk7Rqh/w4toa1rH/p+vkS3Xjt17SD/Wy+JP0a6JqP/btVz0L17d4t1XZ0Q4nHq16/S86P30f5zVx0l3ecUiq5xqGsD6TpRfj/8b45zzjnHYv39n8V7TWbaAAAAAAAAZBAPbQAAAAAAADIos+lRfspePqWUddqapkOFEE9H1BKoIYRw3333WUzJzIpp3LixxQceeGDUpqkRWv7u888/j/rpuddz6KcI6xRxX4YviZ/2uOqqq1rcpUuXqO3QQw+1WEtD+hK3WjY3a1NNK5OWBA4hTuXQ4+xTMgpdJj3r03+LZenSpdH2ggULLNbpvSHE03GbNWtmsZ9qr6lTelz1fIYQTwseNGhQ1KZTVtPo1PShQ4dGbYX+jGSNTsP117Lx48dbPHny5KhNp3t37tzZ4k6dOkX9Zs6cabGWJfWpWPo5ueSSS6I2LYGr5yMtbQ758+VpdZq/HnMtVxpCXCIYuUn6jij2d0eDBg0s1lKzIcT3S6+88krUpteEmvL9li9/fPRa678zNXX0ww8/tNhf4/T7M61cun5/fvrpp1HbwIEDLT7kkEMs9mnm+l3rl3lIKyOtqtNnRL9btFz3s88+m9jPp0dp26abbmrxRRddFPXr0KGDxfp7wpdW1+/ZtBSrunXrWqzLQYQQwpQpUyxOS1/T5Rc09Qfl0zGhJbo33HDDxL/RFOIQ4nTHrN9rMtMGAAAAAAAgg3hoAwAAAAAAkEGZTY8qBE2BOv3006M2nbKvqS8hMPW0InzKkk5J89MDdfqhVibZZZddon66Qr6mp2200UZRP50W56cPa0UNnV6qn4kQ4hX9u3XrFrXpv02nS44ZMyaxX02bzqjThtdbb72obfPNNy/3b2bPnh1tp1V6yGf81dQxq1UsQojHhFYZ8tsnn3yyxY8++mjUT6uhaXqMTzfVc+1Tp5L4sXLiiSdarNWiahpfsUCnS/vp/EpToLQCQgjxlF+tTpJWQcZXMUnaxyxWWKiu9Prnq49o6pqet3HjxkX9SqHiSFUq9veHnuM2bdpYrNfXEOLruU85rWn3GZUl6Xro73N1W/8m7Vro2zQdeMKECRa3bds26qf3Vf63StJn1d9H6XbWq4bp/ukYeP/996N+uX4/6fIL/nfC4MGDLd52220t9lUuc606pZ+LJk2aRG16L+XTr/JJyampywD4czNp0iSL9Zj74zN//nyLtSJnCHF6XdaPIzNtAAAAAAAAMoiHNgAAAAAAABnEQxsAAAAAAIAMKrk1bXStmvvvv99iLUUdQrzmyaWXXprYhnQ+/0+Pvy8frDnb2u/888+P+h177LEWay6pL4WopXGnTZsWtWlOq75X06ZNo36aH+nzVqdPn26xrp+TawnjmkDzRg866KCoTc+X5ux+8sknUb+0kpnInc/xfvPNNy3u2bNn1KalZvfbbz+LBwwYEPXTPGwdH2k582k0l/vQQw+N2rSkJ5+DP+mx8Osi6HHX85+W7592bHU9Ab+ukI5hvbZzrgpHz+eOO+4Ytem513F05513Rv2SyhEjG3Rtv86dOyf20/Wr/JoXuV5vayo9PoUYA/419Bzmu76QfrfOmzfP4g022CDqt3jxYov9Wii5qk7XgaTvO/97Qo+fX6cnaZ1E/xo6xnTtOP9bI9f91RLsr732WtRPv5P993jSPXDaeatO53R56Xi77777orakdWz8WLnsssss1jWkQsj+Ok+KmTYAAAAAAAAZxEMbAAAAAACADKr26VE6RS6EuGxshw4dLPbTnx555BGLn3nmmSLtXenzx/WFF16weOTIkVHbgQceaHH9+vUt9mlJjRo1sjhtmusaa6xhsS+XqVMRtWz4aqutVs6/4g9+6uSnn35q8ZAhQ8r97/69ahot79ylS5eoTc+dphxqSfcQatY0z2JKG4snnHBC1KZTSnXqaSGm3fvzOXfuXIsPOOAAi/304eo0RTUrCj129LOg19cQ4uuonlNfDhf50+O//vrrR206pX727NkWz5kzJ+rH9TRb/DW1bt26Fu+0004W+xR+TbvRfiHE1/Z80/n5nOTOHyu959Pzm1aG2f9WqVOnjsV6Da1Xr17UT8sR+7Qdvf/S63Mpnlv/b0orr57EHz9N1d96660t9qk1em/i2/SzoOWnNd3K90tLj8IfdCztvffeFvfo0SOxn56n22+/Peo3aNCgcvtVN8y0AQAAAAAAyCAe2gAAAAAAAGQQD20AAAAAAAAyqNqvadOiRYto+4gjjrBYc9001zCEEM466yyL8y2jh7/6/vvvLT799NOjtoEDB1q8ww47WNy7d++oX9euXS3WtW88zRH268pMnTrV4m+//dZiLfEXQgjvvvuuxRMnTozatOS3rsPic1Wrc35kPvS4N2/e3GJfqlLH1bhx4yzWHG0UzxdffGGxH4sjRoywWM9hrmva+BxsPae33HJL1HbllVdanG95VBSHP99aCl7XSAghPsd6rfTXQ70+5LPuQE2jx6tly5YWb7LJJol/o2Pbl4NGtvgx1q5dO4v1HK+55ppRP73GbrfddlGb3vd+/PHHFvvxpvcmafcppbamRqH/Pf719FimrbuoY9uvp5hUlvrDDz+M+ulai6uvvnrUlrSeUamdz+Whx9avv6bHafLkyRY3bdo06qcl2XUdoRBCePrppy0eNmyYxf73hN4Pc37+yl8nW7VqZfGll15qsR8DOhZ1vdHzzjsvsV91xkwbAAAAAACADOKhDQAAAAAAQAZVy/QoTZm54IILojadXqxpMVdffXXUT9tQHH4K4OLFiy1+/PHHy429tKmNuq3lE0OIp6Xqa/jzrlPL08rwMZ3xT3o8Nd1Fp4mGEI9FTZkhHbHyvf7669F2+/btLdb0xGOOOSbqt9FGG1ms6YJ33HFH1O+JJ56w2KfLILv8NbVhw4YW+2vlV199ZbFO2felwbWfn5LMdfSv9LuqdevWif00tXfGjBkW55rSiGzQsu56L5t2Hn1KgI652rVrW5x27WXsFU7SsUw7h/5aqJ8DHdu+LLUuOeBfI+n+2O9fTT73esz8+Bg6dKjFDzzwgMWNGzeO+qWVbp8yZUq5r+/vc2vyOciFTx/caqutLNYUfv87TcfHGWecYbFfMqNUMNMGAAAAAAAgg3hoAwAAAAAAkEGZTY/y0wzr1q1r8ZFHHmnxvvvuG/XTqYULFy60eNq0aVE/pqpVD3qefJUM3S7VqXBZpNMTNWVGV3j3fvjhh3L/HlVDx8vDDz9cbozSpN+tfqq3prA+9thjUZtWc9DqfJoqFQJppRWl32MvvfSSxVptMYQ4der555+3mIps2ebHwNy5cy3WtNVtt9026qfT/h999NGoTauHaUpGWoo3iiPXY5yW1rH22mtbnHYvq9dn/xp6LffpdP4aXVP5a6WOI/1e/PzzzxNfI+18M94qRj+zvlJwp06dLNbPr0/pnjBhgsXvvPNOgfcwe5hpAwAAAAAAkEE8tAEAAAAAAMggHtoAAAAAAABkUKbWtNH8Ni2HF0IIm222mcW6js2aa66Z+HqLFi2yWHM/Q4jzF8lDBPKj5RS1bCWAbNLvO1+WdObMmRb79Y20zPCPP/5osZb4DoE1q5aH5u77NYX0vPnSv8guf3/56aefWnzKKadYrGs4hBCvyThx4sSoTe9n/Vp/yJ1fO7OYvwX8e+kY1nLHuuZRCPG5/vrrrxNfX9drYZ2rimMttuJIW0NvrbXWsrhPnz5RW69evSyuXbu2xUuWLIn63X777RYvWLBgufa1OmCmDQAAAAAAQAbx0AYAAAAAACCDMpUelTYlTaeA6tQ/n5Kh5fJ0erFONV3WewEAUOr896CmS2l6cQhxudlcU3UqM/2gFOjxIc2sNOl5nTFjhsWamhgCKXCVodjXI319X6pYU0X0uquppyGE0KRJE4v97x3fF8iatHsFvRZOmzYtahs3bpzFu+22m8Vvvvlm1O+DDz4o971KFTNtAAAAAAAAMoiHNgAAAAAAABnEQxsAAAAAAIAMqlWRHLBatWpVWcLYSiv9ufyO5oauuuqqif2+/fZbi31+eHUr71ZWVlZr2b2WrSrPIcLbZWVlXQrxQpzHqsNYLAmMxRLAWCwJjMUSwFgsCYzFElAKY1F/59fQ9d3KHYvMtAEAAAAAAMggHtoAAAAAAABkUEVLfi8MIcxYZq8i0JLfGmuJ7xLWvICvVWXnEJzHEsA5LA2cx+qPc1gaOI/VH+ewNHAeq7+SOIc1NCVKlXseK7SmDQAAAAAAACoH6VEAAAAAAAAZxEMbAAAAAACADOKhDQAAAAAAQAbx0AYAAAAAACCDeGgDAAAAAACQQTy0AQAAAAAAyCAe2gAAAAAAAGQQD20AAAAAAAAyiIc2AAAAAAAAGfT/ccfHjRtj5QsAAAAASUVORK5CYII=\n",
      "text/plain": [
       "<Figure size 1440x288 with 20 Axes>"
      ]
     },
     "metadata": {
      "needs_background": "light"
     },
     "output_type": "display_data"
    }
   ],
   "source": [
    "n = 10 # for how many digits of the mnist images we will display\n",
    "plt.figure(figsize=(20,4))\n",
    "\n",
    "for i in range(n):\n",
    "    ax = plt.subplot(2, n, i+1)\n",
    "    plt.imshow(x_test[i].reshape(28,28))  # return them to the 28x28 individual size\n",
    "    plt.gray()\n",
    "    ax.get_xaxis().set_visible(False)\n",
    "    ax.get_yaxis().set_visible(False)\n",
    "    # and then display the reconstruction\n",
    "    ax = plt.subplot(2, n, i+1+n) # +n moves it to the next lane\n",
    "    plt.imshow(out_images[i].reshape(28,28))\n",
    "    plt.gray()\n",
    "    ax.get_xaxis().set_visible(False)\n",
    "    ax.get_yaxis().set_visible(False)\n",
    "\n",
    "plt.show()"
   ]
  },
  {
   "cell_type": "markdown",
   "id": "c747163b-e9e4-404a-b59a-e7db1fdcbda6",
   "metadata": {},
   "source": [
    "The sequential autoencoder can recreate the images even if they were compressed a couple of times."
   ]
  },
  {
   "cell_type": "markdown",
   "id": "d192b3a2-b2a2-48f6-9aba-462b075bda1b",
   "metadata": {},
   "source": [
    "# Deep Autoencoder\n",
    "\n",
    "More layers."
   ]
  },
  {
   "cell_type": "code",
   "execution_count": 36,
   "id": "c1cb5c74-b7f3-411c-8966-28b884bef806",
   "metadata": {},
   "outputs": [],
   "source": [
    "# The mnist images are 28x28, this is 784 pixels total\n",
    "\n",
    "encoding_dim = 64 # define the encoding dimension (arbitrary) this is the size of the bottleneck\n",
    "# the compressed image is 8x8\n",
    "\n",
    "input_img = Input(shape=(784,)) # This is the input layer of the network 784x1\n",
    "encoded = Dense(256, activation = 'relu')(input_img) # This is the encoded layer, a dense layer its input is the previous layer\n",
    "encoded = Dense(128, activation = 'relu')(encoded)\n",
    "encoded = Dense(64, activation = 'relu')(encoded)\n",
    "\n",
    "decoded = Dense(128, activation = 'relu')(encoded) # This is the decoded layer a dense fully conected layer, its input is the previous layer\n",
    "decoded = Dense(256, activation = 'relu')(decoded)\n",
    "decoded = Dense(784, activation = 'sigmoid')(decoded)\n",
    "\n",
    "# Here we build the model\n",
    "\n",
    "autoencoder = Model(input_img, decoded) # Autoencoder model, input and output\n",
    "\n",
    "encoder = Model(input_img, encoded) # Encoder model\n",
    "\n",
    "encoded_input = Input(shape=(encoding_dim,)) # Placeholder for encoded input\n",
    "\n",
    "decoder_layer = autoencoder.layers[-3](encoded_input) # Extract the last layer from the autoencoder\n",
    "decoder_layer = autoencoder.layers[-2](decoder_layer)\n",
    "decoder_layer = autoencoder.layers[-1](decoder_layer)\n",
    "\n",
    "decoder = Model(encoded_input, decoder_layer) # Create a decoder model"
   ]
  },
  {
   "cell_type": "code",
   "execution_count": 37,
   "id": "ee469f23-14f2-4c00-9cc3-7f659f60048b",
   "metadata": {},
   "outputs": [],
   "source": [
    "autoencoder.compile(optimizer = 'adadelta', loss = 'binary_crossentropy')"
   ]
  },
  {
   "cell_type": "code",
   "execution_count": 38,
   "id": "fd821d2a-691f-4c15-a9c5-1b1e593c4470",
   "metadata": {},
   "outputs": [
    {
     "name": "stdout",
     "output_type": "stream",
     "text": [
      "x_train shape = (60000, 784)\n",
      "x_test shape = (10000, 784)\n"
     ]
    }
   ],
   "source": [
    "(x_train, _), (x_test, _) =  mnist.load_data() # x_train and just a placeholder for the y value\n",
    "\n",
    "# We can divide the values by 255 to normalize\n",
    "\n",
    "x_train = x_train.astype('float32')/255\n",
    "x_test = x_test.astype('float32')/255\n",
    "\n",
    "# and reshape to a single dimension\n",
    "\n",
    "x_train = x_train.reshape((len(x_train), (np.prod(x_train.shape[1:]))))\n",
    "x_test = x_test.reshape((len(x_test), (np.prod(x_test.shape[1:]))))\n",
    "\n",
    "# print the value of the shapes\n",
    "print(f'x_train shape = {x_train.shape}')\n",
    "print(f'x_test shape = {x_test.shape}')"
   ]
  },
  {
   "cell_type": "code",
   "execution_count": 39,
   "id": "3ff6b205-580e-4cfa-a283-f444143e86d7",
   "metadata": {},
   "outputs": [
    {
     "name": "stdout",
     "output_type": "stream",
     "text": [
      "Train on 60000 samples, validate on 10000 samples\n",
      "Epoch 1/50\n",
      "60000/60000 [==============================] - 6s 95us/step - loss: 0.3180 - val_loss: 0.2613\n",
      "Epoch 2/50\n",
      "60000/60000 [==============================] - 5s 86us/step - loss: 0.2504 - val_loss: 0.2371\n",
      "Epoch 3/50\n",
      "60000/60000 [==============================] - 5s 82us/step - loss: 0.2257 - val_loss: 0.2121\n",
      "Epoch 4/50\n",
      "60000/60000 [==============================] - 5s 82us/step - loss: 0.2019 - val_loss: 0.1916\n",
      "Epoch 5/50\n",
      "60000/60000 [==============================] - 5s 81us/step - loss: 0.1840 - val_loss: 0.1740\n",
      "Epoch 6/50\n",
      "60000/60000 [==============================] - 5s 84us/step - loss: 0.1720 - val_loss: 0.1660\n",
      "Epoch 7/50\n",
      "60000/60000 [==============================] - 5s 78us/step - loss: 0.1645 - val_loss: 0.1593\n",
      "Epoch 8/50\n",
      "60000/60000 [==============================] - 5s 81us/step - loss: 0.1586 - val_loss: 0.1578\n",
      "Epoch 9/50\n",
      "60000/60000 [==============================] - 5s 80us/step - loss: 0.1539 - val_loss: 0.1506\n",
      "Epoch 10/50\n",
      "60000/60000 [==============================] - 5s 91us/step - loss: 0.1496 - val_loss: 0.1476\n",
      "Epoch 11/50\n",
      "60000/60000 [==============================] - 5s 87us/step - loss: 0.1451 - val_loss: 0.1412\n",
      "Epoch 12/50\n",
      "60000/60000 [==============================] - 5s 88us/step - loss: 0.1413 - val_loss: 0.1374\n",
      "Epoch 13/50\n",
      "60000/60000 [==============================] - 5s 90us/step - loss: 0.1377 - val_loss: 0.1341\n",
      "Epoch 14/50\n",
      "60000/60000 [==============================] - 5s 88us/step - loss: 0.1345 - val_loss: 0.1312\n",
      "Epoch 15/50\n",
      "60000/60000 [==============================] - 5s 89us/step - loss: 0.1314 - val_loss: 0.1275\n",
      "Epoch 16/50\n",
      "60000/60000 [==============================] - 6s 92us/step - loss: 0.1287 - val_loss: 0.1290\n",
      "Epoch 17/50\n",
      "60000/60000 [==============================] - 6s 98us/step - loss: 0.1264 - val_loss: 0.1242\n",
      "Epoch 18/50\n",
      "60000/60000 [==============================] - 7s 113us/step - loss: 0.1242 - val_loss: 0.1232\n",
      "Epoch 19/50\n",
      "60000/60000 [==============================] - 6s 101us/step - loss: 0.1223 - val_loss: 0.1200\n",
      "Epoch 20/50\n",
      "60000/60000 [==============================] - 6s 95us/step - loss: 0.1204 - val_loss: 0.1175\n",
      "Epoch 21/50\n",
      "60000/60000 [==============================] - 6s 97us/step - loss: 0.1188 - val_loss: 0.1150\n",
      "Epoch 22/50\n",
      "60000/60000 [==============================] - 5s 88us/step - loss: 0.1173 - val_loss: 0.1162\n",
      "Epoch 23/50\n",
      "60000/60000 [==============================] - 5s 88us/step - loss: 0.1159 - val_loss: 0.1136\n",
      "Epoch 24/50\n",
      "60000/60000 [==============================] - 6s 97us/step - loss: 0.1146 - val_loss: 0.1124\n",
      "Epoch 25/50\n",
      "60000/60000 [==============================] - 5s 88us/step - loss: 0.1135 - val_loss: 0.1123\n",
      "Epoch 26/50\n",
      "60000/60000 [==============================] - 5s 83us/step - loss: 0.1122 - val_loss: 0.1109\n",
      "Epoch 27/50\n",
      "60000/60000 [==============================] - 6s 100us/step - loss: 0.1112 - val_loss: 0.1115\n",
      "Epoch 28/50\n",
      "60000/60000 [==============================] - 6s 92us/step - loss: 0.1103 - val_loss: 0.1089\n",
      "Epoch 29/50\n",
      "60000/60000 [==============================] - 6s 102us/step - loss: 0.1094 - val_loss: 0.1087\n",
      "Epoch 30/50\n",
      "60000/60000 [==============================] - 6s 98us/step - loss: 0.1086 - val_loss: 0.1059\n",
      "Epoch 31/50\n",
      "60000/60000 [==============================] - 6s 93us/step - loss: 0.1078 - val_loss: 0.1052\n",
      "Epoch 32/50\n",
      "60000/60000 [==============================] - 5s 82us/step - loss: 0.1069 - val_loss: 0.1049ETA: 0s\n",
      "Epoch 33/50\n",
      "60000/60000 [==============================] - 5s 82us/step - loss: 0.1062 - val_loss: 0.1068\n",
      "Epoch 34/50\n",
      "60000/60000 [==============================] - 5s 81us/step - loss: 0.1055 - val_loss: 0.1050\n",
      "Epoch 35/50\n",
      "60000/60000 [==============================] - 5s 87us/step - loss: 0.1048 - val_loss: 0.1040\n",
      "Epoch 36/50\n",
      "60000/60000 [==============================] - 6s 97us/step - loss: 0.1040 - val_loss: 0.1033\n",
      "Epoch 37/50\n",
      "60000/60000 [==============================] - 5s 89us/step - loss: 0.1034 - val_loss: 0.1023\n",
      "Epoch 38/50\n",
      "60000/60000 [==============================] - 5s 90us/step - loss: 0.1028 - val_loss: 0.1008\n",
      "Epoch 39/50\n",
      "60000/60000 [==============================] - 9s 149us/step - loss: 0.1022 - val_loss: 0.1004\n",
      "Epoch 40/50\n",
      "60000/60000 [==============================] - 6s 106us/step - loss: 0.1017 - val_loss: 0.1005\n",
      "Epoch 41/50\n",
      "60000/60000 [==============================] - 5s 89us/step - loss: 0.1012 - val_loss: 0.1001\n",
      "Epoch 42/50\n",
      "60000/60000 [==============================] - 5s 88us/step - loss: 0.1007 - val_loss: 0.0989s - loss: \n",
      "Epoch 43/50\n",
      "60000/60000 [==============================] - 5s 89us/step - loss: 0.1003 - val_loss: 0.0984\n",
      "Epoch 44/50\n",
      "60000/60000 [==============================] - 5s 92us/step - loss: 0.0997 - val_loss: 0.1013\n",
      "Epoch 45/50\n",
      "60000/60000 [==============================] - 5s 83us/step - loss: 0.0994 - val_loss: 0.0967\n",
      "Epoch 46/50\n",
      "60000/60000 [==============================] - 5s 81us/step - loss: 0.0989 - val_loss: 0.0977\n",
      "Epoch 47/50\n",
      "60000/60000 [==============================] - 5s 79us/step - loss: 0.0986 - val_loss: 0.0974\n",
      "Epoch 48/50\n",
      "60000/60000 [==============================] - 5s 78us/step - loss: 0.0981 - val_loss: 0.0981\n",
      "Epoch 49/50\n",
      "60000/60000 [==============================] - 5s 79us/step - loss: 0.0978 - val_loss: 0.0956\n",
      "Epoch 50/50\n",
      "60000/60000 [==============================] - 5s 78us/step - loss: 0.0974 - val_loss: 0.0983\n"
     ]
    },
    {
     "data": {
      "text/plain": [
       "<keras.callbacks.callbacks.History at 0x181b7c4a5c0>"
      ]
     },
     "execution_count": 39,
     "metadata": {},
     "output_type": "execute_result"
    }
   ],
   "source": [
    "autoencoder.fit(x_train, x_train, epochs = 50, batch_size = 256, \n",
    "                shuffle = True,  validation_data = (x_test, x_test))"
   ]
  },
  {
   "cell_type": "code",
   "execution_count": 40,
   "id": "b0e16e37-6d07-4f96-bb92-c13c62fe3c4a",
   "metadata": {},
   "outputs": [],
   "source": [
    "encoded_imgs = encoder.predict(x_test) # first encode the images\n",
    "\n",
    "# and then we use our decoder\n",
    "\n",
    "decoded_imgs = decoder.predict(encoded_imgs)"
   ]
  },
  {
   "cell_type": "code",
   "execution_count": 41,
   "id": "952c8b4e-16bf-4d07-a8ad-3670a840a48d",
   "metadata": {},
   "outputs": [
    {
     "data": {
      "image/png": "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\n",
      "text/plain": [
       "<Figure size 1440x288 with 20 Axes>"
      ]
     },
     "metadata": {
      "needs_background": "light"
     },
     "output_type": "display_data"
    }
   ],
   "source": [
    "n = 10 # for how many digits of the mnist images we will display\n",
    "plt.figure(figsize=(20,4))\n",
    "\n",
    "for i in range(n):\n",
    "    ax = plt.subplot(2, n, i+1)\n",
    "    plt.imshow(x_test[i].reshape(28,28))  # return them to the 28x28 individual size\n",
    "    plt.gray()\n",
    "    ax.get_xaxis().set_visible(False)\n",
    "    ax.get_yaxis().set_visible(False)\n",
    "    # and then display the reconstruction\n",
    "    ax = plt.subplot(2, n, i+1+n)\n",
    "    plt.imshow(decoded_imgs[i].reshape(28,28))\n",
    "    plt.gray()\n",
    "    ax.get_xaxis().set_visible(False)\n",
    "    ax.get_yaxis().set_visible(False)\n",
    "\n",
    "plt.show()"
   ]
  },
  {
   "cell_type": "markdown",
   "id": "6d0d02a5-13fa-466d-8b7e-32f74905d6dc",
   "metadata": {},
   "source": [
    "This is the output of the deep autoencoder."
   ]
  }
 ],
 "metadata": {
  "kernelspec": {
   "display_name": "Python 3",
   "language": "python",
   "name": "python3"
  },
  "language_info": {
   "codemirror_mode": {
    "name": "ipython",
    "version": 3
   },
   "file_extension": ".py",
   "mimetype": "text/x-python",
   "name": "python",
   "nbconvert_exporter": "python",
   "pygments_lexer": "ipython3",
   "version": "3.6.13"
  }
 },
 "nbformat": 4,
 "nbformat_minor": 5
}
